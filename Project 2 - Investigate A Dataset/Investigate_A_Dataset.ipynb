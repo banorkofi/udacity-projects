{
 "cells": [
  {
   "cell_type": "markdown",
   "metadata": {},
   "source": [
    "# Project: Investigating No Show Appointment Database\n",
    "\n",
    "## Table of Contents\n",
    "<ul>\n",
    "<li><a href=\"#intro\">Introduction</a></li>\n",
    "<li><a href=\"#wrangling\">Data Wrangling</a></li>\n",
    "    <ul>\n",
    "    <li><a href=\"#assessing\">Assessing the data</a></li>\n",
    "    <li><a href=\"#cleaning\">Data cleaning</a></li>\n",
    "    <li><a href=\"#descriptions\">Column descriptions</a></li>\n",
    "    </ul>\n",
    "<li><a href=\"#eda\">Exploratory Data Analysis</a></li>\n",
    "    <ul>\n",
    "        <li><a href=\"#q1\">What proportion of people do not show up to their appointments?</a></li>\n",
    "        <li><a href=\"#q2\">Are different genders more likely to show to their appointments?</a></li>\n",
    "        <li><a href=\"#q3\">Are different variables more likely to show to their appointments?</a></li>\n",
    "        <li><a href=\"#q4\">Are people more likely to show if they receive a text?</a></li>\n",
    "        <li><a href=\"#q5\">Are older people more likely to show up to their appointments?</a></li>\n",
    "        <li><a href=\"#q6\">What is the average difference between scheduled and appointment day? How does this affect appointment attendance?</a></li></ul>\n",
    "<li><a href=\"#conclusions\">Conclusions</a></li>\n",
    "</ul>"
   ]
  },
  {
   "cell_type": "markdown",
   "metadata": {},
   "source": [
    "<a id='intro'></a>\n",
    "## Introduction\n",
    "\n",
    "> **Selecting database**: \n",
    ">\n",
    ">I have selected the no-show appointments database for this assignment. \n",
    "\n",
    ">**Importing package**\n",
    ">\n",
    ">I have imported the pandas, numpy and seaborn packages.  I have imported matplotlib and\n",
    "I have used the %matplotlib magic function to see graphs inline."
   ]
  },
  {
   "cell_type": "code",
   "execution_count": 1,
   "metadata": {},
   "outputs": [],
   "source": [
    "import pandas as pd\n",
    "import numpy as np\n",
    "import seaborn as sns\n",
    "import matplotlib.pyplot as plt\n",
    "%matplotlib inline\n"
   ]
  },
  {
   "cell_type": "markdown",
   "metadata": {},
   "source": [
    ">**I plan on asking the following questions:**\n",
    "- What proportion of people do not show up to their appointments?\n",
    "- Are different genders more likely to show to their appointments?\n",
    "- Are different variables more likely to show to their appointments?\n",
    "- Are people more likely to show if they receive a text?\n",
    "- Are older people more likely to show up to their appointments?\n",
    "- What is the average difference between scheduled and appointment day? How does this affect appointment attendance?"
   ]
  },
  {
   "cell_type": "markdown",
   "metadata": {},
   "source": [
    "<a id='wrangling'></a>\n",
    "## Data Wrangling\n",
    "\n",
    "\n",
    "> **Loading my data:**\n",
    ">\n",
    ">I loaded my data here using the pandas.read_csv( ). \n",
    ">\n",
    "> I then examine the data using the pandas.head( ) to see what I am working with."
   ]
  },
  {
   "cell_type": "code",
   "execution_count": 2,
   "metadata": {},
   "outputs": [
    {
     "data": {
      "text/html": [
       "<div>\n",
       "<style scoped>\n",
       "    .dataframe tbody tr th:only-of-type {\n",
       "        vertical-align: middle;\n",
       "    }\n",
       "\n",
       "    .dataframe tbody tr th {\n",
       "        vertical-align: top;\n",
       "    }\n",
       "\n",
       "    .dataframe thead th {\n",
       "        text-align: right;\n",
       "    }\n",
       "</style>\n",
       "<table border=\"1\" class=\"dataframe\">\n",
       "  <thead>\n",
       "    <tr style=\"text-align: right;\">\n",
       "      <th></th>\n",
       "      <th>PatientId</th>\n",
       "      <th>AppointmentID</th>\n",
       "      <th>Gender</th>\n",
       "      <th>ScheduledDay</th>\n",
       "      <th>AppointmentDay</th>\n",
       "      <th>Age</th>\n",
       "      <th>Neighbourhood</th>\n",
       "      <th>Scholarship</th>\n",
       "      <th>Hipertension</th>\n",
       "      <th>Diabetes</th>\n",
       "      <th>Alcoholism</th>\n",
       "      <th>Handcap</th>\n",
       "      <th>SMS_received</th>\n",
       "      <th>No-show</th>\n",
       "    </tr>\n",
       "  </thead>\n",
       "  <tbody>\n",
       "    <tr>\n",
       "      <th>0</th>\n",
       "      <td>2.987250e+13</td>\n",
       "      <td>5642903</td>\n",
       "      <td>F</td>\n",
       "      <td>2016-04-29T18:38:08Z</td>\n",
       "      <td>2016-04-29T00:00:00Z</td>\n",
       "      <td>62</td>\n",
       "      <td>JARDIM DA PENHA</td>\n",
       "      <td>0</td>\n",
       "      <td>1</td>\n",
       "      <td>0</td>\n",
       "      <td>0</td>\n",
       "      <td>0</td>\n",
       "      <td>0</td>\n",
       "      <td>No</td>\n",
       "    </tr>\n",
       "    <tr>\n",
       "      <th>1</th>\n",
       "      <td>5.589978e+14</td>\n",
       "      <td>5642503</td>\n",
       "      <td>M</td>\n",
       "      <td>2016-04-29T16:08:27Z</td>\n",
       "      <td>2016-04-29T00:00:00Z</td>\n",
       "      <td>56</td>\n",
       "      <td>JARDIM DA PENHA</td>\n",
       "      <td>0</td>\n",
       "      <td>0</td>\n",
       "      <td>0</td>\n",
       "      <td>0</td>\n",
       "      <td>0</td>\n",
       "      <td>0</td>\n",
       "      <td>No</td>\n",
       "    </tr>\n",
       "    <tr>\n",
       "      <th>2</th>\n",
       "      <td>4.262962e+12</td>\n",
       "      <td>5642549</td>\n",
       "      <td>F</td>\n",
       "      <td>2016-04-29T16:19:04Z</td>\n",
       "      <td>2016-04-29T00:00:00Z</td>\n",
       "      <td>62</td>\n",
       "      <td>MATA DA PRAIA</td>\n",
       "      <td>0</td>\n",
       "      <td>0</td>\n",
       "      <td>0</td>\n",
       "      <td>0</td>\n",
       "      <td>0</td>\n",
       "      <td>0</td>\n",
       "      <td>No</td>\n",
       "    </tr>\n",
       "    <tr>\n",
       "      <th>3</th>\n",
       "      <td>8.679512e+11</td>\n",
       "      <td>5642828</td>\n",
       "      <td>F</td>\n",
       "      <td>2016-04-29T17:29:31Z</td>\n",
       "      <td>2016-04-29T00:00:00Z</td>\n",
       "      <td>8</td>\n",
       "      <td>PONTAL DE CAMBURI</td>\n",
       "      <td>0</td>\n",
       "      <td>0</td>\n",
       "      <td>0</td>\n",
       "      <td>0</td>\n",
       "      <td>0</td>\n",
       "      <td>0</td>\n",
       "      <td>No</td>\n",
       "    </tr>\n",
       "    <tr>\n",
       "      <th>4</th>\n",
       "      <td>8.841186e+12</td>\n",
       "      <td>5642494</td>\n",
       "      <td>F</td>\n",
       "      <td>2016-04-29T16:07:23Z</td>\n",
       "      <td>2016-04-29T00:00:00Z</td>\n",
       "      <td>56</td>\n",
       "      <td>JARDIM DA PENHA</td>\n",
       "      <td>0</td>\n",
       "      <td>1</td>\n",
       "      <td>1</td>\n",
       "      <td>0</td>\n",
       "      <td>0</td>\n",
       "      <td>0</td>\n",
       "      <td>No</td>\n",
       "    </tr>\n",
       "  </tbody>\n",
       "</table>\n",
       "</div>"
      ],
      "text/plain": [
       "      PatientId  AppointmentID Gender          ScheduledDay  \\\n",
       "0  2.987250e+13        5642903      F  2016-04-29T18:38:08Z   \n",
       "1  5.589978e+14        5642503      M  2016-04-29T16:08:27Z   \n",
       "2  4.262962e+12        5642549      F  2016-04-29T16:19:04Z   \n",
       "3  8.679512e+11        5642828      F  2016-04-29T17:29:31Z   \n",
       "4  8.841186e+12        5642494      F  2016-04-29T16:07:23Z   \n",
       "\n",
       "         AppointmentDay  Age      Neighbourhood  Scholarship  Hipertension  \\\n",
       "0  2016-04-29T00:00:00Z   62    JARDIM DA PENHA            0             1   \n",
       "1  2016-04-29T00:00:00Z   56    JARDIM DA PENHA            0             0   \n",
       "2  2016-04-29T00:00:00Z   62      MATA DA PRAIA            0             0   \n",
       "3  2016-04-29T00:00:00Z    8  PONTAL DE CAMBURI            0             0   \n",
       "4  2016-04-29T00:00:00Z   56    JARDIM DA PENHA            0             1   \n",
       "\n",
       "   Diabetes  Alcoholism  Handcap  SMS_received No-show  \n",
       "0         0           0        0             0      No  \n",
       "1         0           0        0             0      No  \n",
       "2         0           0        0             0      No  \n",
       "3         0           0        0             0      No  \n",
       "4         1           0        0             0      No  "
      ]
     },
     "execution_count": 2,
     "metadata": {},
     "output_type": "execute_result"
    }
   ],
   "source": [
    "df = pd.read_csv('noshowappointments.csv')\n",
    "df.head()"
   ]
  },
  {
   "cell_type": "markdown",
   "metadata": {},
   "source": [
    "> **Things I would like to change:**\n",
    ">\n",
    "> - Right off the bat I can see that the headings could be in a better format.\n",
    "> - PatientId column should be in integer format so that it doesn't show it as a scientific notation.\n",
    "> - ScheduledDay and AppointmentDay Columns should be in a better date format."
   ]
  },
  {
   "cell_type": "markdown",
   "metadata": {},
   "source": [
    "<a id='assessing'></a>\n",
    "### Assessing the data"
   ]
  },
  {
   "cell_type": "markdown",
   "metadata": {},
   "source": [
    "My dataset has 110527 rows and 14 columns."
   ]
  },
  {
   "cell_type": "code",
   "execution_count": 3,
   "metadata": {
    "scrolled": true
   },
   "outputs": [
    {
     "data": {
      "text/plain": [
       "(110527, 14)"
      ]
     },
     "execution_count": 3,
     "metadata": {},
     "output_type": "execute_result"
    }
   ],
   "source": [
    "df.shape"
   ]
  },
  {
   "cell_type": "markdown",
   "metadata": {},
   "source": [
    "My dataset has no null values. Eight columns are integers. Five are objects/strings and one is a float."
   ]
  },
  {
   "cell_type": "code",
   "execution_count": 4,
   "metadata": {},
   "outputs": [
    {
     "name": "stdout",
     "output_type": "stream",
     "text": [
      "<class 'pandas.core.frame.DataFrame'>\n",
      "RangeIndex: 110527 entries, 0 to 110526\n",
      "Data columns (total 14 columns):\n",
      " #   Column          Non-Null Count   Dtype  \n",
      "---  ------          --------------   -----  \n",
      " 0   PatientId       110527 non-null  float64\n",
      " 1   AppointmentID   110527 non-null  int64  \n",
      " 2   Gender          110527 non-null  object \n",
      " 3   ScheduledDay    110527 non-null  object \n",
      " 4   AppointmentDay  110527 non-null  object \n",
      " 5   Age             110527 non-null  int64  \n",
      " 6   Neighbourhood   110527 non-null  object \n",
      " 7   Scholarship     110527 non-null  int64  \n",
      " 8   Hipertension    110527 non-null  int64  \n",
      " 9   Diabetes        110527 non-null  int64  \n",
      " 10  Alcoholism      110527 non-null  int64  \n",
      " 11  Handcap         110527 non-null  int64  \n",
      " 12  SMS_received    110527 non-null  int64  \n",
      " 13  No-show         110527 non-null  object \n",
      "dtypes: float64(1), int64(8), object(5)\n",
      "memory usage: 11.8+ MB\n"
     ]
    }
   ],
   "source": [
    "df.info()"
   ]
  },
  {
   "cell_type": "markdown",
   "metadata": {},
   "source": [
    "This code verifies my initial belief of there being no null values."
   ]
  },
  {
   "cell_type": "code",
   "execution_count": 5,
   "metadata": {},
   "outputs": [
    {
     "data": {
      "text/plain": [
       "PatientId         0\n",
       "AppointmentID     0\n",
       "Gender            0\n",
       "ScheduledDay      0\n",
       "AppointmentDay    0\n",
       "Age               0\n",
       "Neighbourhood     0\n",
       "Scholarship       0\n",
       "Hipertension      0\n",
       "Diabetes          0\n",
       "Alcoholism        0\n",
       "Handcap           0\n",
       "SMS_received      0\n",
       "No-show           0\n",
       "dtype: int64"
      ]
     },
     "execution_count": 5,
     "metadata": {},
     "output_type": "execute_result"
    }
   ],
   "source": [
    "df.isnull().sum()"
   ]
  },
  {
   "cell_type": "markdown",
   "metadata": {},
   "source": [
    "I have no duplicated rows in my dataset either."
   ]
  },
  {
   "cell_type": "code",
   "execution_count": 6,
   "metadata": {},
   "outputs": [
    {
     "data": {
      "text/plain": [
       "0"
      ]
     },
     "execution_count": 6,
     "metadata": {},
     "output_type": "execute_result"
    }
   ],
   "source": [
    "sum(df.duplicated())"
   ]
  },
  {
   "cell_type": "markdown",
   "metadata": {},
   "source": [
    "The 'Handcap' column seems to have 5 unique values and I am unsure why it is not a dummy variable. Further analysis shows it takes on the values 0,1,2,3 and 4."
   ]
  },
  {
   "cell_type": "code",
   "execution_count": 7,
   "metadata": {},
   "outputs": [
    {
     "data": {
      "text/plain": [
       "PatientId          62299\n",
       "AppointmentID     110527\n",
       "Gender                 2\n",
       "ScheduledDay      103549\n",
       "AppointmentDay        27\n",
       "Age                  104\n",
       "Neighbourhood         81\n",
       "Scholarship            2\n",
       "Hipertension           2\n",
       "Diabetes               2\n",
       "Alcoholism             2\n",
       "Handcap                5\n",
       "SMS_received           2\n",
       "No-show                2\n",
       "dtype: int64"
      ]
     },
     "execution_count": 7,
     "metadata": {},
     "output_type": "execute_result"
    }
   ],
   "source": [
    "df.nunique()"
   ]
  },
  {
   "cell_type": "code",
   "execution_count": 8,
   "metadata": {},
   "outputs": [
    {
     "data": {
      "text/plain": [
       "array([0, 1, 2, 3, 4])"
      ]
     },
     "execution_count": 8,
     "metadata": {},
     "output_type": "execute_result"
    }
   ],
   "source": [
    "df.Handcap.unique()"
   ]
  },
  {
   "cell_type": "markdown",
   "metadata": {},
   "source": [
    "Finally, this code allows me to see an overview of my dataset. I have rounded the numbers to 3 decimal places to make it easier to read.\n",
    "\n",
    "The average patient is 37 years old and probably does not have any medical conditions such as hypertension, diabetes, alcoholism and is not handicapped. And there is around a 1 in 3 chance they received a text.\n",
    "\n",
    "There is a -1 year old, which is impossible, so I will remove this row."
   ]
  },
  {
   "cell_type": "code",
   "execution_count": 9,
   "metadata": {},
   "outputs": [
    {
     "data": {
      "text/html": [
       "<div>\n",
       "<style scoped>\n",
       "    .dataframe tbody tr th:only-of-type {\n",
       "        vertical-align: middle;\n",
       "    }\n",
       "\n",
       "    .dataframe tbody tr th {\n",
       "        vertical-align: top;\n",
       "    }\n",
       "\n",
       "    .dataframe thead th {\n",
       "        text-align: right;\n",
       "    }\n",
       "</style>\n",
       "<table border=\"1\" class=\"dataframe\">\n",
       "  <thead>\n",
       "    <tr style=\"text-align: right;\">\n",
       "      <th></th>\n",
       "      <th>PatientId</th>\n",
       "      <th>AppointmentID</th>\n",
       "      <th>Age</th>\n",
       "      <th>Scholarship</th>\n",
       "      <th>Hipertension</th>\n",
       "      <th>Diabetes</th>\n",
       "      <th>Alcoholism</th>\n",
       "      <th>Handcap</th>\n",
       "      <th>SMS_received</th>\n",
       "    </tr>\n",
       "  </thead>\n",
       "  <tbody>\n",
       "    <tr>\n",
       "      <th>count</th>\n",
       "      <td>1.105270e+05</td>\n",
       "      <td>110527.000</td>\n",
       "      <td>110527.000</td>\n",
       "      <td>110527.000</td>\n",
       "      <td>110527.000</td>\n",
       "      <td>110527.000</td>\n",
       "      <td>110527.000</td>\n",
       "      <td>110527.000</td>\n",
       "      <td>110527.000</td>\n",
       "    </tr>\n",
       "    <tr>\n",
       "      <th>mean</th>\n",
       "      <td>1.474963e+14</td>\n",
       "      <td>5675305.123</td>\n",
       "      <td>37.089</td>\n",
       "      <td>0.098</td>\n",
       "      <td>0.197</td>\n",
       "      <td>0.072</td>\n",
       "      <td>0.030</td>\n",
       "      <td>0.022</td>\n",
       "      <td>0.321</td>\n",
       "    </tr>\n",
       "    <tr>\n",
       "      <th>std</th>\n",
       "      <td>2.560949e+14</td>\n",
       "      <td>71295.752</td>\n",
       "      <td>23.110</td>\n",
       "      <td>0.298</td>\n",
       "      <td>0.398</td>\n",
       "      <td>0.258</td>\n",
       "      <td>0.172</td>\n",
       "      <td>0.162</td>\n",
       "      <td>0.467</td>\n",
       "    </tr>\n",
       "    <tr>\n",
       "      <th>min</th>\n",
       "      <td>3.921784e+04</td>\n",
       "      <td>5030230.000</td>\n",
       "      <td>-1.000</td>\n",
       "      <td>0.000</td>\n",
       "      <td>0.000</td>\n",
       "      <td>0.000</td>\n",
       "      <td>0.000</td>\n",
       "      <td>0.000</td>\n",
       "      <td>0.000</td>\n",
       "    </tr>\n",
       "    <tr>\n",
       "      <th>25%</th>\n",
       "      <td>4.172614e+12</td>\n",
       "      <td>5640285.500</td>\n",
       "      <td>18.000</td>\n",
       "      <td>0.000</td>\n",
       "      <td>0.000</td>\n",
       "      <td>0.000</td>\n",
       "      <td>0.000</td>\n",
       "      <td>0.000</td>\n",
       "      <td>0.000</td>\n",
       "    </tr>\n",
       "    <tr>\n",
       "      <th>50%</th>\n",
       "      <td>3.173184e+13</td>\n",
       "      <td>5680573.000</td>\n",
       "      <td>37.000</td>\n",
       "      <td>0.000</td>\n",
       "      <td>0.000</td>\n",
       "      <td>0.000</td>\n",
       "      <td>0.000</td>\n",
       "      <td>0.000</td>\n",
       "      <td>0.000</td>\n",
       "    </tr>\n",
       "    <tr>\n",
       "      <th>75%</th>\n",
       "      <td>9.439172e+13</td>\n",
       "      <td>5725523.500</td>\n",
       "      <td>55.000</td>\n",
       "      <td>0.000</td>\n",
       "      <td>0.000</td>\n",
       "      <td>0.000</td>\n",
       "      <td>0.000</td>\n",
       "      <td>0.000</td>\n",
       "      <td>1.000</td>\n",
       "    </tr>\n",
       "    <tr>\n",
       "      <th>max</th>\n",
       "      <td>9.999816e+14</td>\n",
       "      <td>5790484.000</td>\n",
       "      <td>115.000</td>\n",
       "      <td>1.000</td>\n",
       "      <td>1.000</td>\n",
       "      <td>1.000</td>\n",
       "      <td>1.000</td>\n",
       "      <td>4.000</td>\n",
       "      <td>1.000</td>\n",
       "    </tr>\n",
       "  </tbody>\n",
       "</table>\n",
       "</div>"
      ],
      "text/plain": [
       "          PatientId  AppointmentID         Age  Scholarship  Hipertension  \\\n",
       "count  1.105270e+05     110527.000  110527.000   110527.000    110527.000   \n",
       "mean   1.474963e+14    5675305.123      37.089        0.098         0.197   \n",
       "std    2.560949e+14      71295.752      23.110        0.298         0.398   \n",
       "min    3.921784e+04    5030230.000      -1.000        0.000         0.000   \n",
       "25%    4.172614e+12    5640285.500      18.000        0.000         0.000   \n",
       "50%    3.173184e+13    5680573.000      37.000        0.000         0.000   \n",
       "75%    9.439172e+13    5725523.500      55.000        0.000         0.000   \n",
       "max    9.999816e+14    5790484.000     115.000        1.000         1.000   \n",
       "\n",
       "         Diabetes  Alcoholism     Handcap  SMS_received  \n",
       "count  110527.000  110527.000  110527.000    110527.000  \n",
       "mean        0.072       0.030       0.022         0.321  \n",
       "std         0.258       0.172       0.162         0.467  \n",
       "min         0.000       0.000       0.000         0.000  \n",
       "25%         0.000       0.000       0.000         0.000  \n",
       "50%         0.000       0.000       0.000         0.000  \n",
       "75%         0.000       0.000       0.000         1.000  \n",
       "max         1.000       1.000       4.000         1.000  "
      ]
     },
     "execution_count": 9,
     "metadata": {},
     "output_type": "execute_result"
    }
   ],
   "source": [
    "df.describe().round(3)"
   ]
  },
  {
   "cell_type": "markdown",
   "metadata": {},
   "source": [
    "<a id = 'cleaning'></a>\n",
    "### Data Cleaning"
   ]
  },
  {
   "cell_type": "markdown",
   "metadata": {},
   "source": [
    "> **I previously stated that I would like to change:**\n",
    ">\n",
    "> - PatientId column should be in integer format so that it doesn't show it as a scientific notation.\n",
    "> - ScheduledDay and AppointmentDay Columns should be in a better date format.\n",
    "> - Headings into a better format.\n",
    "\n",
    ">**After some more thought, I would also like to:**\n",
    ">\n",
    ">- Drop -1 year old age patient\n",
    "- Drop Handcap as it has 5 unique values. \n",
    "- Change no-show to a dummy variable.\n",
    "- Calculate the difference between ScheduledDay and AppointmentDay."
   ]
  },
  {
   "cell_type": "markdown",
   "metadata": {},
   "source": [
    "Here, I am checking the PatientId columns' datatype. Then I change into an integer and verify the column has changed."
   ]
  },
  {
   "cell_type": "code",
   "execution_count": 10,
   "metadata": {
    "scrolled": false
   },
   "outputs": [
    {
     "data": {
      "text/plain": [
       "numpy.float64"
      ]
     },
     "execution_count": 10,
     "metadata": {},
     "output_type": "execute_result"
    }
   ],
   "source": [
    "type(df['PatientId'][0])"
   ]
  },
  {
   "cell_type": "code",
   "execution_count": 11,
   "metadata": {},
   "outputs": [
    {
     "data": {
      "text/plain": [
       "numpy.int64"
      ]
     },
     "execution_count": 11,
     "metadata": {},
     "output_type": "execute_result"
    }
   ],
   "source": [
    "df['PatientId'] = df.PatientId.astype(np.int64)\n",
    "type(df['PatientId'][0])"
   ]
  },
  {
   "cell_type": "markdown",
   "metadata": {},
   "source": [
    "This code changes my 'Scheduled Day' column from an object/string to a datetime function."
   ]
  },
  {
   "cell_type": "code",
   "execution_count": 12,
   "metadata": {},
   "outputs": [],
   "source": [
    "df['ScheduledDay'] = pd.to_datetime(df['ScheduledDay']).dt.date"
   ]
  },
  {
   "cell_type": "markdown",
   "metadata": {},
   "source": [
    "This code changes my 'Appointment Day' column from an object/string to a datetime function."
   ]
  },
  {
   "cell_type": "code",
   "execution_count": 13,
   "metadata": {},
   "outputs": [],
   "source": [
    "df['AppointmentDay'] = pd.to_datetime(df['AppointmentDay']).dt.date"
   ]
  },
  {
   "cell_type": "markdown",
   "metadata": {},
   "source": [
    "Next, I changed the column headings into snake case where necessary. I have also shortened most of the variable names to make it more efficient when typing."
   ]
  },
  {
   "cell_type": "code",
   "execution_count": 14,
   "metadata": {},
   "outputs": [],
   "source": [
    "df.columns=['pat_id',\n",
    "            'app_id',\n",
    "            'gender',\n",
    "            'sch_day',\n",
    "            'app_day',\n",
    "            'age',\n",
    "            'area',\n",
    "            'aid',\n",
    "            'hyper',\n",
    "            'diab',\n",
    "            'alco',\n",
    "            'hand',\n",
    "            'sms',\n",
    "            'no_show']"
   ]
  },
  {
   "cell_type": "markdown",
   "metadata": {},
   "source": [
    "I then dropped the row with the -1 year old patient."
   ]
  },
  {
   "cell_type": "code",
   "execution_count": 15,
   "metadata": {},
   "outputs": [],
   "source": [
    "df.drop(df.query('age < 0').index, inplace=True)"
   ]
  },
  {
   "cell_type": "markdown",
   "metadata": {},
   "source": [
    "I then drop the Handcap column."
   ]
  },
  {
   "cell_type": "code",
   "execution_count": 16,
   "metadata": {},
   "outputs": [],
   "source": [
    "df.drop(['hand'], axis=1, inplace=True)"
   ]
  },
  {
   "cell_type": "markdown",
   "metadata": {},
   "source": [
    "The next step is changing the 'Yes' values in the 'no_show' column to 1 and 'No' values to 0."
   ]
  },
  {
   "cell_type": "code",
   "execution_count": 17,
   "metadata": {},
   "outputs": [],
   "source": [
    "df['no_show'] = df.no_show.map(dict(Yes=1, No=0))"
   ]
  },
  {
   "cell_type": "markdown",
   "metadata": {},
   "source": [
    "The final step in cleaning the data is calculating the difference between AppointmentDay and ScheduledDay. Then coverting this timedelta into integers. Then, I delete any rows where the day difference is less than zero."
   ]
  },
  {
   "cell_type": "code",
   "execution_count": 18,
   "metadata": {},
   "outputs": [],
   "source": [
    "df['day_diff'] = df['app_day']-df['sch_day']\n",
    "df['day_diff'] = df['day_diff'].dt.days"
   ]
  },
  {
   "cell_type": "code",
   "execution_count": 19,
   "metadata": {},
   "outputs": [],
   "source": [
    "df.drop(df.query('day_diff < 0').index, inplace=True)"
   ]
  },
  {
   "cell_type": "markdown",
   "metadata": {},
   "source": [
    "Finally, I view my dataset again to make sure all changes have been made."
   ]
  },
  {
   "cell_type": "code",
   "execution_count": 20,
   "metadata": {
    "scrolled": false
   },
   "outputs": [
    {
     "data": {
      "text/html": [
       "<div>\n",
       "<style scoped>\n",
       "    .dataframe tbody tr th:only-of-type {\n",
       "        vertical-align: middle;\n",
       "    }\n",
       "\n",
       "    .dataframe tbody tr th {\n",
       "        vertical-align: top;\n",
       "    }\n",
       "\n",
       "    .dataframe thead th {\n",
       "        text-align: right;\n",
       "    }\n",
       "</style>\n",
       "<table border=\"1\" class=\"dataframe\">\n",
       "  <thead>\n",
       "    <tr style=\"text-align: right;\">\n",
       "      <th></th>\n",
       "      <th>pat_id</th>\n",
       "      <th>app_id</th>\n",
       "      <th>gender</th>\n",
       "      <th>sch_day</th>\n",
       "      <th>app_day</th>\n",
       "      <th>age</th>\n",
       "      <th>area</th>\n",
       "      <th>aid</th>\n",
       "      <th>hyper</th>\n",
       "      <th>diab</th>\n",
       "      <th>alco</th>\n",
       "      <th>sms</th>\n",
       "      <th>no_show</th>\n",
       "      <th>day_diff</th>\n",
       "    </tr>\n",
       "  </thead>\n",
       "  <tbody>\n",
       "    <tr>\n",
       "      <th>0</th>\n",
       "      <td>29872499824296</td>\n",
       "      <td>5642903</td>\n",
       "      <td>F</td>\n",
       "      <td>2016-04-29</td>\n",
       "      <td>2016-04-29</td>\n",
       "      <td>62</td>\n",
       "      <td>JARDIM DA PENHA</td>\n",
       "      <td>0</td>\n",
       "      <td>1</td>\n",
       "      <td>0</td>\n",
       "      <td>0</td>\n",
       "      <td>0</td>\n",
       "      <td>0</td>\n",
       "      <td>0</td>\n",
       "    </tr>\n",
       "    <tr>\n",
       "      <th>1</th>\n",
       "      <td>558997776694438</td>\n",
       "      <td>5642503</td>\n",
       "      <td>M</td>\n",
       "      <td>2016-04-29</td>\n",
       "      <td>2016-04-29</td>\n",
       "      <td>56</td>\n",
       "      <td>JARDIM DA PENHA</td>\n",
       "      <td>0</td>\n",
       "      <td>0</td>\n",
       "      <td>0</td>\n",
       "      <td>0</td>\n",
       "      <td>0</td>\n",
       "      <td>0</td>\n",
       "      <td>0</td>\n",
       "    </tr>\n",
       "    <tr>\n",
       "      <th>2</th>\n",
       "      <td>4262962299951</td>\n",
       "      <td>5642549</td>\n",
       "      <td>F</td>\n",
       "      <td>2016-04-29</td>\n",
       "      <td>2016-04-29</td>\n",
       "      <td>62</td>\n",
       "      <td>MATA DA PRAIA</td>\n",
       "      <td>0</td>\n",
       "      <td>0</td>\n",
       "      <td>0</td>\n",
       "      <td>0</td>\n",
       "      <td>0</td>\n",
       "      <td>0</td>\n",
       "      <td>0</td>\n",
       "    </tr>\n",
       "    <tr>\n",
       "      <th>3</th>\n",
       "      <td>867951213174</td>\n",
       "      <td>5642828</td>\n",
       "      <td>F</td>\n",
       "      <td>2016-04-29</td>\n",
       "      <td>2016-04-29</td>\n",
       "      <td>8</td>\n",
       "      <td>PONTAL DE CAMBURI</td>\n",
       "      <td>0</td>\n",
       "      <td>0</td>\n",
       "      <td>0</td>\n",
       "      <td>0</td>\n",
       "      <td>0</td>\n",
       "      <td>0</td>\n",
       "      <td>0</td>\n",
       "    </tr>\n",
       "    <tr>\n",
       "      <th>4</th>\n",
       "      <td>8841186448183</td>\n",
       "      <td>5642494</td>\n",
       "      <td>F</td>\n",
       "      <td>2016-04-29</td>\n",
       "      <td>2016-04-29</td>\n",
       "      <td>56</td>\n",
       "      <td>JARDIM DA PENHA</td>\n",
       "      <td>0</td>\n",
       "      <td>1</td>\n",
       "      <td>1</td>\n",
       "      <td>0</td>\n",
       "      <td>0</td>\n",
       "      <td>0</td>\n",
       "      <td>0</td>\n",
       "    </tr>\n",
       "  </tbody>\n",
       "</table>\n",
       "</div>"
      ],
      "text/plain": [
       "            pat_id   app_id gender     sch_day     app_day  age  \\\n",
       "0   29872499824296  5642903      F  2016-04-29  2016-04-29   62   \n",
       "1  558997776694438  5642503      M  2016-04-29  2016-04-29   56   \n",
       "2    4262962299951  5642549      F  2016-04-29  2016-04-29   62   \n",
       "3     867951213174  5642828      F  2016-04-29  2016-04-29    8   \n",
       "4    8841186448183  5642494      F  2016-04-29  2016-04-29   56   \n",
       "\n",
       "                area  aid  hyper  diab  alco  sms  no_show  day_diff  \n",
       "0    JARDIM DA PENHA    0      1     0     0    0        0         0  \n",
       "1    JARDIM DA PENHA    0      0     0     0    0        0         0  \n",
       "2      MATA DA PRAIA    0      0     0     0    0        0         0  \n",
       "3  PONTAL DE CAMBURI    0      0     0     0    0        0         0  \n",
       "4    JARDIM DA PENHA    0      1     1     0    0        0         0  "
      ]
     },
     "execution_count": 20,
     "metadata": {},
     "output_type": "execute_result"
    }
   ],
   "source": [
    "df.head()"
   ]
  },
  {
   "cell_type": "markdown",
   "metadata": {},
   "source": [
    "<a id='descriptions'></a>\n",
    "### Column descriptions"
   ]
  },
  {
   "cell_type": "markdown",
   "metadata": {},
   "source": [
    "| Column names | Definitions |\n",
    "| --- | :--- |\n",
    "| pat_id | The patient's id number |\n",
    "|app_id | The appointment id|\n",
    "|gender | Phe patient's gender|\n",
    "|sch_day | The date the appointment was made|\n",
    "|app_day | The date of the appointment|\n",
    "|age | The patient's age|\n",
    "|area | The patient's neighbourhood|\n",
    "|aid| If the patient is enrolled in Brasilian welfare program Bolsa Família the number is 1, otherwise 0|\n",
    "|hyper | If the patient has hypertension the number is 1, otherwise 0|\n",
    "|diab |If the patient has diabetes the number is 1, otherwise 0|\n",
    "|alco |If the patient is an alcoholic the number is 1, otherwise 0|\n",
    "|sms |If the patient received an sms before their appointment the number is 1, otherwise 0|\n",
    "|no_show |If the patient did not show to their appointment the number is 1, otherwise 0|\n",
    "|diff_day|The difference between AppointmentDay and ScheduledDay|"
   ]
  },
  {
   "cell_type": "markdown",
   "metadata": {},
   "source": [
    "<a id='eda'></a>\n",
    "## Exploratory Data Analysis\n",
    "\n",
    "> Now that I have wrangled my data. The next step is exploring it. I will answer my research questions by computing statistics and creating visualizations in this section. \n",
    "\n",
    ">**I plan on asking the following questions:**\n",
    "- What proportion of people do not show up to their appointments?\n",
    "- Are different genders more likely to show to their appointments?\n",
    "- Are different variables more likely to show to their appointments?\n",
    "- Are people more likely to show if they receive a text?\n",
    "- What is the average difference between scheduled and appointment day? How does this affect appointment attendance?\n",
    "\n",
    ">My dependent variable is no_show. While every other columns are my independent variables.\n",
    "\n",
    "\n",
    "### Research Questions"
   ]
  },
  {
   "cell_type": "markdown",
   "metadata": {},
   "source": [
    "<a id = 'q1'></a>\n",
    "**What proportion of people do not show up to their appointments?**"
   ]
  },
  {
   "cell_type": "markdown",
   "metadata": {},
   "source": [
    "Broken down, a total of 88,207 patients showed up to their appointments and 22,314 did not."
   ]
  },
  {
   "cell_type": "code",
   "execution_count": 21,
   "metadata": {},
   "outputs": [
    {
     "data": {
      "text/plain": [
       "0    88207\n",
       "1    22314\n",
       "Name: no_show, dtype: int64"
      ]
     },
     "execution_count": 21,
     "metadata": {},
     "output_type": "execute_result"
    }
   ],
   "source": [
    "df['no_show'].value_counts()"
   ]
  },
  {
   "cell_type": "markdown",
   "metadata": {},
   "source": [
    "This is a histogram showing the patient breakdown of those who did and did not go to their appointments."
   ]
  },
  {
   "cell_type": "code",
   "execution_count": 22,
   "metadata": {
    "scrolled": true
   },
   "outputs": [
    {
     "data": {
      "image/png": "[encoded data removed]",
      "text/plain": [
       "<Figure size 432x288 with 1 Axes>"
      ]
     },
     "metadata": {
      "needs_background": "light"
     },
     "output_type": "display_data"
    }
   ],
   "source": [
    "df['no_show'].value_counts().plot(kind='bar')\n",
    "plt.title('A histogram showing the total patients that did/did not show')\n",
    "plt.xlabel('Amount of patients')\n",
    "plt.ylabel('Did/did not show')\n",
    "plt.xticks([0, 1], ['Did show', 'Did not show'], rotation='horizontal');"
   ]
  },
  {
   "cell_type": "code",
   "execution_count": 23,
   "metadata": {},
   "outputs": [
    {
     "data": {
      "text/plain": [
       "'The proportion of patients that did not show up to their appointment was 0.202'"
      ]
     },
     "execution_count": 23,
     "metadata": {},
     "output_type": "execute_result"
    }
   ],
   "source": [
    "\"The proportion of patients that did not show up to their appointment was {}\".format(round(df['no_show'].mean(),3))"
   ]
  },
  {
   "cell_type": "markdown",
   "metadata": {},
   "source": [
    "<a id = 'q2'></a>\n",
    "**Are different genders more likely to show to their appointments?**"
   ]
  },
  {
   "cell_type": "markdown",
   "metadata": {},
   "source": [
    "I am creating a mask for rows where patients showed and did not show."
   ]
  },
  {
   "cell_type": "code",
   "execution_count": 24,
   "metadata": {},
   "outputs": [],
   "source": [
    "showed = df['no_show'] == 0\n",
    "noshowed = df['no_show'] == 1"
   ]
  },
  {
   "cell_type": "markdown",
   "metadata": {},
   "source": [
    "I have created a histogram to show the gender of those who showed and did not show. At first glance it may look like females both showed and did not show more than males. However, if males were scaled up, there is not much difference."
   ]
  },
  {
   "cell_type": "code",
   "execution_count": 25,
   "metadata": {},
   "outputs": [
    {
     "data": {
      "image/png": "[encoded data removed]",
      "text/plain": [
       "<Figure size 432x288 with 1 Axes>"
      ]
     },
     "metadata": {
      "needs_background": "light"
     },
     "output_type": "display_data"
    }
   ],
   "source": [
    "df.gender[showed].hist(alpha = 0.5, label = 'showed')\n",
    "df.gender[noshowed].hist(alpha = 0.5, label = 'didn\\'t show')\n",
    "plt.legend();\n",
    "plt.title('People who showed or didn\\'t show to their appointment by gender')\n",
    "plt.xlabel('Gender')\n",
    "plt.ylabel('Total number of patients');"
   ]
  },
  {
   "cell_type": "markdown",
   "metadata": {},
   "source": [
    "I am creating proportions for genders who showed and did not show.\n",
    "<br>ga1 is the proportion of females who showed.\n",
    "<br>ga2 is the proportion of females who did not show.\n",
    "<br>ga3 is the proportion of males who showed.\n",
    "<br>ga4 is the proportion of males who did not show."
   ]
  },
  {
   "cell_type": "code",
   "execution_count": 26,
   "metadata": {},
   "outputs": [],
   "source": [
    "ga1 = df.gender[showed].value_counts().F/df.gender.value_counts().F\n",
    "ga2 = df.gender[noshowed].value_counts().F/df.gender.value_counts().F\n",
    "ga3 = df.gender[showed].value_counts().M/df.gender.value_counts().M\n",
    "ga4 = df.gender[noshowed].value_counts().M/df.gender.value_counts().M"
   ]
  },
  {
   "cell_type": "markdown",
   "metadata": {},
   "source": [
    "As I thought, the difference between males and females is minimal. Meaning there is no relationship between gender and those who do and do not show."
   ]
  },
  {
   "cell_type": "code",
   "execution_count": 27,
   "metadata": {},
   "outputs": [
    {
     "data": {
      "image/png": "[encoded data removed]",
      "text/plain": [
       "<Figure size 432x288 with 1 Axes>"
      ]
     },
     "metadata": {
      "needs_background": "light"
     },
     "output_type": "display_data"
    }
   ],
   "source": [
    "genapp = pd.DataFrame([[ga1,ga2],[ga3,ga4]], columns=['show', 'no show'])\n",
    "genapp.plot.bar(stacked=True, alpha=.5)\n",
    "plt.title(\"Proportion of genders who show and do not show\")\n",
    "plt.xlabel(\"Gender\")\n",
    "plt.ylabel(\"Proportion\")\n",
    "plt.xticks([0, 1], ['Female', 'Male'], rotation='horizontal');"
   ]
  },
  {
   "cell_type": "markdown",
   "metadata": {},
   "source": [
    "<a id = 'q3'></a>\n",
    "**Are different variables more likely to show/not show to their appointments?**"
   ]
  },
  {
   "cell_type": "markdown",
   "metadata": {},
   "source": [
    "On average, older people tend to keep their appointments more. There is a 3 year age difference between showed and noshowed."
   ]
  },
  {
   "cell_type": "code",
   "execution_count": 28,
   "metadata": {},
   "outputs": [
    {
     "data": {
      "text/plain": [
       "(37.790504154999034, 34.31787218786412)"
      ]
     },
     "execution_count": 28,
     "metadata": {},
     "output_type": "execute_result"
    }
   ],
   "source": [
    "df.age[showed].mean(), df.age[noshowed].mean()"
   ]
  },
  {
   "cell_type": "markdown",
   "metadata": {},
   "source": [
    "The difference is so small that it is not that noticeable but on average, patients with a scholarship are more likely to not show than show."
   ]
  },
  {
   "cell_type": "code",
   "execution_count": 29,
   "metadata": {},
   "outputs": [
    {
     "data": {
      "text/plain": [
       "(0.09390411191855522, 0.11553284933225777)"
      ]
     },
     "execution_count": 29,
     "metadata": {},
     "output_type": "execute_result"
    }
   ],
   "source": [
    "df.aid[showed].mean(), df.aid[noshowed].mean()"
   ]
  },
  {
   "cell_type": "markdown",
   "metadata": {},
   "source": [
    "The difference here again, is not that big but on average, hypertension patients tend to show up to their appointments more than not show up."
   ]
  },
  {
   "cell_type": "code",
   "execution_count": 30,
   "metadata": {},
   "outputs": [
    {
     "data": {
      "text/plain": [
       "(0.20439420907637715, 0.16904185713005287)"
      ]
     },
     "execution_count": 30,
     "metadata": {},
     "output_type": "execute_result"
    }
   ],
   "source": [
    "df.hyper[showed].mean(), df.hyper[noshowed].mean()"
   ]
  },
  {
   "cell_type": "markdown",
   "metadata": {},
   "source": [
    "On average, diabetic patients tend to keep their appointments more. Again, there is the difference is really small here, so it is a bit of a leap to draw such conclusions."
   ]
  },
  {
   "cell_type": "code",
   "execution_count": 31,
   "metadata": {},
   "outputs": [
    {
     "data": {
      "text/plain": [
       "(0.07383767728184838, 0.07383767728184838)"
      ]
     },
     "execution_count": 31,
     "metadata": {},
     "output_type": "execute_result"
    }
   ],
   "source": [
    "df.diab[showed].mean(), df.diab[showed].mean()"
   ]
  },
  {
   "cell_type": "markdown",
   "metadata": {},
   "source": [
    "Lastly, alcholics tend to show/not show up at around the same rate. This variable has the smallest difference."
   ]
  },
  {
   "cell_type": "code",
   "execution_count": 32,
   "metadata": {},
   "outputs": [
    {
     "data": {
      "text/plain": [
       "(0.03041708707925675, 0.030339697051178633)"
      ]
     },
     "execution_count": 32,
     "metadata": {},
     "output_type": "execute_result"
    }
   ],
   "source": [
    "df.alco[showed].mean(), df.alco[noshowed].mean()"
   ]
  },
  {
   "cell_type": "markdown",
   "metadata": {},
   "source": [
    "This scatter plot shows that most patients miss up to 3 appointments. The maximum missed appointment was 18."
   ]
  },
  {
   "cell_type": "code",
   "execution_count": 33,
   "metadata": {},
   "outputs": [
    {
     "data": {
      "image/png": "[encoded data removed]",
      "text/plain": [
       "<Figure size 432x288 with 1 Axes>"
      ]
     },
     "metadata": {
      "needs_background": "light"
     },
     "output_type": "display_data"
    }
   ],
   "source": [
    "totalmissed = df.groupby('pat_id').agg({'no_show': ['sum']}).reset_index()\n",
    "totalamount = df.groupby('pat_id').agg({'no_show': ['count']}).reset_index()\n",
    "totalmissed.plot(x='pat_id', y='no_show', kind='scatter')\n",
    "plt.title('Scatter plot of total missed appointments per patient')\n",
    "plt.xlabel('Patients')\n",
    "plt.ylabel('Total number of missed appointments');"
   ]
  },
  {
   "cell_type": "markdown",
   "metadata": {},
   "source": [
    "<a id = 'q4'></a>\n",
    "**Are people more likely to show if they receive a text?**"
   ]
  },
  {
   "cell_type": "markdown",
   "metadata": {},
   "source": [
    "The result below suggests that of the people who showed up to their appointments 29.1% of them received a text and of the people who didn't show 43.8% received a text."
   ]
  },
  {
   "cell_type": "code",
   "execution_count": 34,
   "metadata": {},
   "outputs": [
    {
     "data": {
      "text/plain": [
       "(0.29133742220005215, 0.43846912252397596)"
      ]
     },
     "execution_count": 34,
     "metadata": {},
     "output_type": "execute_result"
    }
   ],
   "source": [
    "df[showed].sms.mean(), df[noshowed].sms.mean()"
   ]
  },
  {
   "cell_type": "markdown",
   "metadata": {},
   "source": [
    "I am creating a mask for rows where patients where texted and where not texted."
   ]
  },
  {
   "cell_type": "code",
   "execution_count": 35,
   "metadata": {},
   "outputs": [],
   "source": [
    "smsed = df['sms'] == 1\n",
    "nosmsed = df['sms'] == 0"
   ]
  },
  {
   "cell_type": "markdown",
   "metadata": {},
   "source": [
    "The result below suggests that of the people who were texted, 27.6% decided not to go. While 16.7% of those not texted decided not to go. This could mean the texts may not be helping and that it may be more useful to not be texted, if the clinic wants people to show up. However, it may just be a coincidence."
   ]
  },
  {
   "cell_type": "code",
   "execution_count": 36,
   "metadata": {},
   "outputs": [
    {
     "data": {
      "text/plain": [
       "(0.27574544839637, 0.16697983715134795)"
      ]
     },
     "execution_count": 36,
     "metadata": {},
     "output_type": "execute_result"
    }
   ],
   "source": [
    "df[smsed].no_show.mean(), df[nosmsed].no_show.mean()"
   ]
  },
  {
   "cell_type": "markdown",
   "metadata": {},
   "source": [
    "I am querying for people who were/were not texted and who showed/did not show.\n",
    "\n",
    "With further investigation, I can see that from the total dataset more than half the patients did not get a text but still showed up. Then around 23% of patients got a text and showed. 11% of patients did not get a text, leading to them not showing up and only 8.85% of patients got a text and decided not to show still. This falls more in line with predictions."
   ]
  },
  {
   "cell_type": "code",
   "execution_count": 37,
   "metadata": {},
   "outputs": [],
   "source": [
    "smsshow = df[['sms','no_show']].query('sms==1 & no_show==0').count().sms\n",
    "smsnoshow = df[['sms','no_show']].query('sms==1 & no_show==1').count().sms\n",
    "nosmsnoshow =df[['sms','no_show']].query('sms==0 & no_show==1').count().sms\n",
    "nosmsshow = df[['sms','no_show']].query('sms==0 & no_show==0').count().sms\n",
    "total = df['sms'].count()"
   ]
  },
  {
   "cell_type": "code",
   "execution_count": 38,
   "metadata": {},
   "outputs": [
    {
     "data": {
      "text/plain": [
       "('Got a text and showed - 23.3%',\n",
       " 'Got a text and didnt show - 8.85%',\n",
       " 'Did not get a text, did not show - 11.3%',\n",
       " 'Did not get a text and showed - 56.6%')"
      ]
     },
     "execution_count": 38,
     "metadata": {},
     "output_type": "execute_result"
    }
   ],
   "source": [
    "a1 = 'Got a text and showed - {}%'.format((smsshow/total*100).round(1))\n",
    "a2 = 'Got a text and didnt show - {}%'.format((smsnoshow/total*100).round(2))\n",
    "a3 = 'Did not get a text, did not show - {}%'.format((nosmsnoshow/total*100).round(1))\n",
    "a4 = 'Did not get a text and showed - {}%'.format((nosmsshow/total*100).round(1))\n",
    "a1,a2,a3,a4"
   ]
  },
  {
   "cell_type": "code",
   "execution_count": 39,
   "metadata": {},
   "outputs": [
    {
     "data": {
      "image/png": "[encoded data removed]",
      "text/plain": [
       "<Figure size 432x288 with 1 Axes>"
      ]
     },
     "metadata": {
      "needs_background": "light"
     },
     "output_type": "display_data"
    }
   ],
   "source": [
    "smsshow_df = pd.DataFrame([[smsshow, smsnoshow, nosmsnoshow, nosmsshow]], columns=['Got a text and showed','Got a text and didnt show','Did not get a text, did not show','Did not get a text and showed'])\n",
    "\n",
    "smsshow_df.plot(kind='bar', alpha=0.5, align='center')\n",
    "plt.xticks([0], ['Show and sms'], rotation='horizontal')\n",
    "plt.title('Amount of people who were/were not texted and who showed/did not show ')\n",
    "plt.ylabel('Amount of people');\n"
   ]
  },
  {
   "cell_type": "markdown",
   "metadata": {},
   "source": [
    "<a id = 'q5'></a>\n",
    "**Are older people more likely to show up to their appointments?**"
   ]
  },
  {
   "cell_type": "code",
   "execution_count": 40,
   "metadata": {},
   "outputs": [],
   "source": [
    "group1 = df.query('0 < age < 30')\n",
    "group2 = df.query('31 < age < 60')\n",
    "group3 = df.query('61 < age < 90')\n",
    "group4 = df.query('91 < age < 120')"
   ]
  },
  {
   "cell_type": "code",
   "execution_count": 41,
   "metadata": {},
   "outputs": [],
   "source": [
    "a = \"The proportion of unders 30s that did not show up was {}\".format(round(group1.no_show.mean(),3))\n",
    "b = \"The proportion of 31 to 60 year olds that did not show up was {}\".format(round(group2.no_show.mean(),3))\n",
    "c = \"The proportion of 61 to 90 year olds that did not show up was {}\".format(round(group3.no_show.mean(),3))\n",
    "d = \"The proportion of 91 to 120 year olds that did not show up was {}\".format(round(group4.no_show.mean(),3))"
   ]
  },
  {
   "cell_type": "code",
   "execution_count": 42,
   "metadata": {},
   "outputs": [
    {
     "data": {
      "text/plain": [
       "('The proportion of unders 30s that did not show up was 0.234',\n",
       " 'The proportion of 31 to 60 year olds that did not show up was 0.195',\n",
       " 'The proportion of 61 to 90 year olds that did not show up was 0.151',\n",
       " 'The proportion of 91 to 120 year olds that did not show up was 0.202')"
      ]
     },
     "execution_count": 42,
     "metadata": {},
     "output_type": "execute_result"
    }
   ],
   "source": [
    "a, b, c, d"
   ]
  },
  {
   "cell_type": "markdown",
   "metadata": {},
   "source": [
    "It seems the youngest, under 30s, are worst at keeping their appointments, with 23.4% not showing up. And the 61 to 90 year olds are the best with only 15% forgetting their appointments. "
   ]
  },
  {
   "cell_type": "code",
   "execution_count": 43,
   "metadata": {},
   "outputs": [
    {
     "data": {
      "image/png": "[encoded data removed]",
      "text/plain": [
       "<Figure size 432x288 with 1 Axes>"
      ]
     },
     "metadata": {
      "needs_background": "light"
     },
     "output_type": "display_data"
    }
   ],
   "source": [
    "age = pd.DataFrame([[group1.no_show.mean(), group2.no_show.mean(), group3.no_show.mean(), group4.no_show.mean()]], columns=['0 - 30','31 - 60','61 - 90','91 - 120'])\n",
    "\n",
    "age.plot(kind='bar', alpha=0.5, align='center')\n",
    "plt.xticks([0], ['Age'], rotation='horizontal')\n",
    "plt.title('Proportion of ages that did not show to their appointments')\n",
    "plt.ylabel('Proportion');\n"
   ]
  },
  {
   "cell_type": "markdown",
   "metadata": {},
   "source": [
    "This is a distribution for the ages who did and did not show."
   ]
  },
  {
   "cell_type": "code",
   "execution_count": 44,
   "metadata": {},
   "outputs": [
    {
     "data": {
      "image/png": "[encoded data removed]",
      "text/plain": [
       "<Figure size 432x288 with 1 Axes>"
      ]
     },
     "metadata": {
      "needs_background": "light"
     },
     "output_type": "display_data"
    }
   ],
   "source": [
    "binedges = [0, 30, 60, 90, 120]\n",
    "df.age[showed].hist(alpha=0.5, bins=binedges, color='orange', label='showed')\n",
    "df.age[noshowed].hist(alpha=0.5, bins=binedges, color='green', label='noshowed')\n",
    "plt.title('Histogram of ages that did and did not show')\n",
    "plt.xlabel('Age')\n",
    "plt.ylabel('Number of patients')\n",
    "plt.legend();"
   ]
  },
  {
   "cell_type": "markdown",
   "metadata": {},
   "source": [
    "<a id = 'q6'></a>\n",
    "**What is the average difference between scheduled and appointment day and how does it affect attendance of appointments?**"
   ]
  },
  {
   "cell_type": "markdown",
   "metadata": {},
   "source": [
    "Patients take 10 days on average between booking and attending the appointment."
   ]
  },
  {
   "cell_type": "code",
   "execution_count": 45,
   "metadata": {},
   "outputs": [
    {
     "data": {
      "text/plain": [
       "10.184345056595578"
      ]
     },
     "execution_count": 45,
     "metadata": {},
     "output_type": "execute_result"
    }
   ],
   "source": [
    "day_diff_mean = df['day_diff'].mean()\n",
    "day_diff_mean"
   ]
  },
  {
   "cell_type": "markdown",
   "metadata": {},
   "source": [
    "Here, I am splitting up the day_diff column with the mean. There are those more than or equal to the mean and those less than the mean. "
   ]
  },
  {
   "cell_type": "code",
   "execution_count": 46,
   "metadata": {},
   "outputs": [],
   "source": [
    "morethan10 = df.query('day_diff >= {}'.format(day_diff_mean))\n",
    "lessthan10 = df.query('day_diff < {}'.format(day_diff_mean))"
   ]
  },
  {
   "cell_type": "markdown",
   "metadata": {},
   "source": [
    "Of the patients that give 10 or more days notice, 60.4% of them received a text and 32.5% of them did not go to their appointment."
   ]
  },
  {
   "cell_type": "code",
   "execution_count": 47,
   "metadata": {},
   "outputs": [
    {
     "data": {
      "text/plain": [
       "(0.6038146664344191, 0.3251466062822969)"
      ]
     },
     "execution_count": 47,
     "metadata": {},
     "output_type": "execute_result"
    }
   ],
   "source": [
    "morethan10.sms.mean(), morethan10.no_show.mean()"
   ]
  },
  {
   "cell_type": "markdown",
   "metadata": {},
   "source": [
    "Of the patients that give less than 10 days notice, 19.3% of them received a text and 14.6% of them did not go to their appointment."
   ]
  },
  {
   "cell_type": "code",
   "execution_count": 48,
   "metadata": {},
   "outputs": [
    {
     "data": {
      "text/plain": [
       "(0.19300690108445612, 0.14609267170555373)"
      ]
     },
     "execution_count": 48,
     "metadata": {},
     "output_type": "execute_result"
    }
   ],
   "source": [
    "lessthan10.sms.mean(), lessthan10.no_show.mean()"
   ]
  },
  {
   "cell_type": "markdown",
   "metadata": {},
   "source": [
    "This shows that there is a correlation between day difference and sms columns, but the correlation is very weak."
   ]
  },
  {
   "cell_type": "code",
   "execution_count": 49,
   "metadata": {},
   "outputs": [
    {
     "data": {
      "text/plain": [
       "0.3981282984768228"
      ]
     },
     "execution_count": 49,
     "metadata": {},
     "output_type": "execute_result"
    }
   ],
   "source": [
    "df['day_diff'].corr(df['sms'])"
   ]
  },
  {
   "cell_type": "markdown",
   "metadata": {},
   "source": [
    "From left to right, the bar graph below shows:\n",
    "- The percentage of patients that received an sms, who gave a longer appointment notice period than average.\n",
    "- The percentage of patients that received a text, who gave a shorter appointment notice period than average.\n",
    "- The percentage of patients that did not show and gave a longer appointment notice period than average.\n",
    "- The percentage of patients that did not show and gave a shorter appointment notice period than average."
   ]
  },
  {
   "cell_type": "code",
   "execution_count": 50,
   "metadata": {},
   "outputs": [
    {
     "data": {
      "image/png": "[encoded data removed]",
      "text/plain": [
       "<Figure size 432x288 with 1 Axes>"
      ]
     },
     "metadata": {
      "needs_background": "light"
     },
     "output_type": "display_data"
    }
   ],
   "source": [
    "mta = [morethan10.sms.mean(),morethan10.no_show.mean()]\n",
    "lta = [lessthan10.sms.mean(), lessthan10.no_show.mean()]\n",
    "index = ['sms', 'no_show']\n",
    "bar1 = pd.DataFrame({'more than average': mta,\n",
    "                   'less than average': lta}, index=index)\n",
    "ax = bar1.plot.bar(rot=0, alpha=0.5)\n",
    "plt.title('Averages of sms and no show grouped by above and below average')\n",
    "plt.ylabel('Proportions');"
   ]
  },
  {
   "cell_type": "markdown",
   "metadata": {},
   "source": [
    "I count the amount of appointments grouped by day_diff column. Then I count the amount of missed appointments grouped by day_diff column. Then I find the percentage of missed appointments for for the given day."
   ]
  },
  {
   "cell_type": "code",
   "execution_count": 51,
   "metadata": {},
   "outputs": [],
   "source": [
    "day_diff_count = df.groupby('day_diff')['no_show'].count()\n",
    "day_diff_sum = df.groupby('day_diff')['no_show'].sum()\n",
    "day_diff_countsum = day_diff_sum/day_diff_count"
   ]
  },
  {
   "cell_type": "markdown",
   "metadata": {},
   "source": [
    "I then create a line graph, with a rolling mean of 5 days to smooth it out. Between 80 to 125 days it is a bit erratic, but the proportion of people who do not show generally decreases, meaning more people are showing up to their apppointments. The amount of people not showing is at its lowest at 125 days. This then increases sharply from 125 to 155 days and drops again after that."
   ]
  },
  {
   "cell_type": "code",
   "execution_count": 52,
   "metadata": {},
   "outputs": [
    {
     "data": {
      "image/png": "[encoded data removed]",
      "text/plain": [
       "<Figure size 432x288 with 1 Axes>"
      ]
     },
     "metadata": {
      "needs_background": "light"
     },
     "output_type": "display_data"
    }
   ],
   "source": [
    "plt.plot(day_diff_countsum.rolling(5).mean())\n",
    "plt.title('Rolling mean of proportion of patients who did not show grouped by scheduling difference')\n",
    "plt.xlabel('Scheduling difference (days)')\n",
    "plt.ylabel('Proportion');"
   ]
  },
  {
   "cell_type": "markdown",
   "metadata": {},
   "source": [
    "The histogram shows that most appointments are made a maximum of 8 days in advance."
   ]
  },
  {
   "cell_type": "code",
   "execution_count": 53,
   "metadata": {},
   "outputs": [
    {
     "data": {
      "image/png": "[encoded data removed]",
      "text/plain": [
       "<Figure size 432x288 with 1 Axes>"
      ]
     },
     "metadata": {
      "needs_background": "light"
     },
     "output_type": "display_data"
    }
   ],
   "source": [
    "df['day_diff'].hist(bins=20, alpha=.5)\n",
    "plt.title('Histogram of scheduling difference for all appointments')\n",
    "plt.xlabel('Amount of time (days)')\n",
    "plt.ylabel('Total number of patients');"
   ]
  },
  {
   "cell_type": "markdown",
   "metadata": {},
   "source": [
    "34.9% of appointments are booked and scheduled on the same day."
   ]
  },
  {
   "cell_type": "code",
   "execution_count": 54,
   "metadata": {},
   "outputs": [
    {
     "data": {
      "text/plain": [
       "0.3489110666751115"
      ]
     },
     "execution_count": 54,
     "metadata": {},
     "output_type": "execute_result"
    }
   ],
   "source": [
    "df.query('day_diff == 0').count().day_diff/df.count().day_diff"
   ]
  },
  {
   "cell_type": "markdown",
   "metadata": {},
   "source": [
    "<a id='conclusions'></a>\n",
    "## Conclusions"
   ]
  },
  {
   "cell_type": "markdown",
   "metadata": {},
   "source": [
    "<ul>\n",
    "    <li><b>What proportion of people do not show up to their appointments?</b></li>\n",
    "    <ul><li>There are 88,207 patients who turned up to their appointment and 22,314 who did not. This equated to 20.2% of the total dataset who did not turn up to their appointment.</li></ul>\n",
    "    <li><b>Are different genders more likely to show to their appointments?</b></li>\n",
    "    <ul><li>Gender has no effect on patients showing up to their appointment.</li></ul>\n",
    "    <li><b>Are different variables more likely to show to their appointments?</b></li>\n",
    "    <ul><li>On average, older people tend to keep their appointments more. There is a 3 year age difference between showed and noshowed.</li></ul>\n",
    "    <ul><li>Other than that, none of the other variables (scholarship, hypertension, diabetes, alcoholism) showed a relationship with not showing up. </li></ul>\n",
    "    <ul><li>Most patients miss up to 3 appointments. The maximum missed appointment was 18.</li></ul>\n",
    "    <li><b>Are people more likely to show if they receive a text?</b></li>\n",
    "    <ul><li>Of the people who showed up to their appointments 29.1% of them received a text and of the people who didn't show 43.8% received a text.</li></ul>\n",
    "    <ul><li>Of the people who were texted, 27.6% decided not to go. While 16.7% of those not texted decided not to go. This could mean the texts may not be helping and that it may be more useful to not be texted, if the clinic wants people to show up. However, it may just be a coincidence.</li></ul>\n",
    "    <ul><li>More than half the patients did not get a text but still showed up. Then around 23% of patients got a text and showed. 11% of patients did not get a text, leading to them not showing up and only 8.85% of patients got a text and decided not to show still.</li></ul>\n",
    "    <li><b>Are older people more likely to show up to their appointments?</b></li>\n",
    "    <ul><li>It seems the youngest, under 30s, are worst at keeping their appointments, with 23.4% not showing up. And the 61 to 90 year olds are the best with only 15% forgetting their appointments. </li></ul>\n",
    "    <li><b>What is the average difference between scheduled and appointment day? How does this affect appointment attendance?</b></li>\n",
    "    <ul><li>Patients take 10 days on average between booking and attending the appointment.</li></ul>\n",
    "    <ul><li>Of the patients that give 10 or more days notice, 60.4% of them received a text and 32.5% of them did not go to their appointment.</li></ul>\n",
    "    <ul><li>Of the patients that give less than 10 days notice, 19.3% of them received a text and 14.6% of them did not go to their appointment.</li></ul>\n",
    "    <ul><li>There is a correlation between day difference and sms columns, but the correlation is very weak.</li></ul>\n",
    "    <ul><li>Between 80 to 125 days it is a bit erratic, but the proportion of people who do not show generally decreases, meaning more people are showing up to their apppointments. The amount of people not showing is at its lowest at 125 days. This then increases sharply from 125 to 155 days and drops again after that.</li></ul>\n",
    "    <ul><li>Most appointments are made a maximum of 8 days in advance.</li></ul>\n",
    "    <ul><li>34.9% of appointments are booked and scheduled on the same day.</li></ul>\n",
    "</ul>"
   ]
  }
 ],
 "metadata": {
  "kernelspec": {
   "display_name": "Python 3",
   "language": "python",
   "name": "python3"
  },
  "language_info": {
   "codemirror_mode": {
    "name": "ipython",
    "version": 3
   },
   "file_extension": ".py",
   "mimetype": "text/x-python",
   "name": "python",
   "nbconvert_exporter": "python",
   "pygments_lexer": "ipython3",
   "version": "3.7.6"
  }
 },
 "nbformat": 4,
 "nbformat_minor": 2
}
